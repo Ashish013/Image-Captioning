{
  "nbformat": 4,
  "nbformat_minor": 0,
  "metadata": {
    "colab": {
      "name": "Copy_of_Image_captioning.ipynb",
      "provenance": [],
      "collapsed_sections": [
        "cc-N_RngXPoM"
      ]
    },
    "kernelspec": {
      "name": "python3",
      "display_name": "Python 3"
    },
    "language_info": {
      "name": "python"
    },
    "accelerator": "GPU"
  },
  "cells": [
    {
      "cell_type": "code",
      "metadata": {
        "id": "4K59XscrBlnI",
        "colab": {
          "base_uri": "https://localhost:8080/"
        },
        "outputId": "1d3b2894-07ab-4556-f846-3c358d151778"
      },
      "source": [
        "import json\n",
        "json_key = {\"username\":\"N/A\",\"key\":\"N/A\"}\n",
        "with open(\"kaggle.json\",'w') as file:\n",
        "  json.dump(json_key,file)\n",
        "\n",
        "!mkdir -p ~/.kaggle\n",
        "!cp kaggle.json ~/.kaggle/\n",
        "!chmod 600 /root/.kaggle/kaggle.json\n",
        "!kaggle datasets download -d adityajn105/flickr8k\n",
        "!unzip -q flickr8k.zip\n",
        "!rm flickr8k.zip"
      ],
      "execution_count": null,
      "outputs": [
        {
          "output_type": "stream",
          "text": [
            "Downloading flickr8k.zip to /content\n",
            " 99% 1.03G/1.04G [00:10<00:00, 119MB/s]\n",
            "100% 1.04G/1.04G [00:10<00:00, 101MB/s]\n"
          ],
          "name": "stdout"
        }
      ]
    },
    {
      "cell_type": "code",
      "metadata": {
        "colab": {
          "base_uri": "https://localhost:8080/"
        },
        "id": "e4slacuGFGQq",
        "outputId": "a92e2f79-d9b6-4931-f85b-bf340680b1df"
      },
      "source": [
        "from google.colab import drive\n",
        "drive.mount('/content/drive')"
      ],
      "execution_count": null,
      "outputs": [
        {
          "output_type": "stream",
          "text": [
            "Mounted at /content/drive\n"
          ],
          "name": "stdout"
        }
      ]
    },
    {
      "cell_type": "code",
      "metadata": {
        "id": "t7XvFHsvdb4z"
      },
      "source": [
        "import numpy as np\n",
        "import glob,cv2,time\n",
        "import pandas as pd\n",
        "from tqdm import tqdm\n",
        "import tensorflow as tf\n",
        "import matplotlib.pyplot as plt\n",
        "from tensorflow.keras import layers\n",
        "from transformers import BertTokenizer\n",
        "from tokenizers import BertWordPieceTokenizer\n",
        "\n",
        "! pip install transformers\n",
        "! pip install tokenizers"
      ],
      "execution_count": null,
      "outputs": []
    },
    {
      "cell_type": "code",
      "metadata": {
        "colab": {
          "base_uri": "https://localhost:8080/",
          "height": 670
        },
        "id": "O6CyS9vefZDu",
        "outputId": "a64d7983-3fe6-47c5-d6ac-9eaf80166f4c"
      },
      "source": [
        "df = pd.read_csv('captions.txt')\n",
        "df.head(20)"
      ],
      "execution_count": null,
      "outputs": [
        {
          "output_type": "execute_result",
          "data": {
            "text/html": [
              "<div>\n",
              "<style scoped>\n",
              "    .dataframe tbody tr th:only-of-type {\n",
              "        vertical-align: middle;\n",
              "    }\n",
              "\n",
              "    .dataframe tbody tr th {\n",
              "        vertical-align: top;\n",
              "    }\n",
              "\n",
              "    .dataframe thead th {\n",
              "        text-align: right;\n",
              "    }\n",
              "</style>\n",
              "<table border=\"1\" class=\"dataframe\">\n",
              "  <thead>\n",
              "    <tr style=\"text-align: right;\">\n",
              "      <th></th>\n",
              "      <th>image</th>\n",
              "      <th>caption</th>\n",
              "    </tr>\n",
              "  </thead>\n",
              "  <tbody>\n",
              "    <tr>\n",
              "      <th>0</th>\n",
              "      <td>1000268201_693b08cb0e.jpg</td>\n",
              "      <td>A child in a pink dress is climbing up a set o...</td>\n",
              "    </tr>\n",
              "    <tr>\n",
              "      <th>1</th>\n",
              "      <td>1000268201_693b08cb0e.jpg</td>\n",
              "      <td>A girl going into a wooden building .</td>\n",
              "    </tr>\n",
              "    <tr>\n",
              "      <th>2</th>\n",
              "      <td>1000268201_693b08cb0e.jpg</td>\n",
              "      <td>A little girl climbing into a wooden playhouse .</td>\n",
              "    </tr>\n",
              "    <tr>\n",
              "      <th>3</th>\n",
              "      <td>1000268201_693b08cb0e.jpg</td>\n",
              "      <td>A little girl climbing the stairs to her playh...</td>\n",
              "    </tr>\n",
              "    <tr>\n",
              "      <th>4</th>\n",
              "      <td>1000268201_693b08cb0e.jpg</td>\n",
              "      <td>A little girl in a pink dress going into a woo...</td>\n",
              "    </tr>\n",
              "    <tr>\n",
              "      <th>5</th>\n",
              "      <td>1001773457_577c3a7d70.jpg</td>\n",
              "      <td>A black dog and a spotted dog are fighting</td>\n",
              "    </tr>\n",
              "    <tr>\n",
              "      <th>6</th>\n",
              "      <td>1001773457_577c3a7d70.jpg</td>\n",
              "      <td>A black dog and a tri-colored dog playing with...</td>\n",
              "    </tr>\n",
              "    <tr>\n",
              "      <th>7</th>\n",
              "      <td>1001773457_577c3a7d70.jpg</td>\n",
              "      <td>A black dog and a white dog with brown spots a...</td>\n",
              "    </tr>\n",
              "    <tr>\n",
              "      <th>8</th>\n",
              "      <td>1001773457_577c3a7d70.jpg</td>\n",
              "      <td>Two dogs of different breeds looking at each o...</td>\n",
              "    </tr>\n",
              "    <tr>\n",
              "      <th>9</th>\n",
              "      <td>1001773457_577c3a7d70.jpg</td>\n",
              "      <td>Two dogs on pavement moving toward each other .</td>\n",
              "    </tr>\n",
              "    <tr>\n",
              "      <th>10</th>\n",
              "      <td>1002674143_1b742ab4b8.jpg</td>\n",
              "      <td>A little girl covered in paint sits in front o...</td>\n",
              "    </tr>\n",
              "    <tr>\n",
              "      <th>11</th>\n",
              "      <td>1002674143_1b742ab4b8.jpg</td>\n",
              "      <td>A little girl is sitting in front of a large p...</td>\n",
              "    </tr>\n",
              "    <tr>\n",
              "      <th>12</th>\n",
              "      <td>1002674143_1b742ab4b8.jpg</td>\n",
              "      <td>A small girl in the grass plays with fingerpai...</td>\n",
              "    </tr>\n",
              "    <tr>\n",
              "      <th>13</th>\n",
              "      <td>1002674143_1b742ab4b8.jpg</td>\n",
              "      <td>There is a girl with pigtails sitting in front...</td>\n",
              "    </tr>\n",
              "    <tr>\n",
              "      <th>14</th>\n",
              "      <td>1002674143_1b742ab4b8.jpg</td>\n",
              "      <td>Young girl with pigtails painting outside in t...</td>\n",
              "    </tr>\n",
              "    <tr>\n",
              "      <th>15</th>\n",
              "      <td>1003163366_44323f5815.jpg</td>\n",
              "      <td>A man lays on a bench while his dog sits by him .</td>\n",
              "    </tr>\n",
              "    <tr>\n",
              "      <th>16</th>\n",
              "      <td>1003163366_44323f5815.jpg</td>\n",
              "      <td>A man lays on the bench to which a white dog i...</td>\n",
              "    </tr>\n",
              "    <tr>\n",
              "      <th>17</th>\n",
              "      <td>1003163366_44323f5815.jpg</td>\n",
              "      <td>a man sleeping on a bench outside with a white...</td>\n",
              "    </tr>\n",
              "    <tr>\n",
              "      <th>18</th>\n",
              "      <td>1003163366_44323f5815.jpg</td>\n",
              "      <td>A shirtless man lies on a park bench with his ...</td>\n",
              "    </tr>\n",
              "    <tr>\n",
              "      <th>19</th>\n",
              "      <td>1003163366_44323f5815.jpg</td>\n",
              "      <td>man laying on bench holding leash of dog sitti...</td>\n",
              "    </tr>\n",
              "  </tbody>\n",
              "</table>\n",
              "</div>"
            ],
            "text/plain": [
              "                        image                                            caption\n",
              "0   1000268201_693b08cb0e.jpg  A child in a pink dress is climbing up a set o...\n",
              "1   1000268201_693b08cb0e.jpg              A girl going into a wooden building .\n",
              "2   1000268201_693b08cb0e.jpg   A little girl climbing into a wooden playhouse .\n",
              "3   1000268201_693b08cb0e.jpg  A little girl climbing the stairs to her playh...\n",
              "4   1000268201_693b08cb0e.jpg  A little girl in a pink dress going into a woo...\n",
              "5   1001773457_577c3a7d70.jpg         A black dog and a spotted dog are fighting\n",
              "6   1001773457_577c3a7d70.jpg  A black dog and a tri-colored dog playing with...\n",
              "7   1001773457_577c3a7d70.jpg  A black dog and a white dog with brown spots a...\n",
              "8   1001773457_577c3a7d70.jpg  Two dogs of different breeds looking at each o...\n",
              "9   1001773457_577c3a7d70.jpg    Two dogs on pavement moving toward each other .\n",
              "10  1002674143_1b742ab4b8.jpg  A little girl covered in paint sits in front o...\n",
              "11  1002674143_1b742ab4b8.jpg  A little girl is sitting in front of a large p...\n",
              "12  1002674143_1b742ab4b8.jpg  A small girl in the grass plays with fingerpai...\n",
              "13  1002674143_1b742ab4b8.jpg  There is a girl with pigtails sitting in front...\n",
              "14  1002674143_1b742ab4b8.jpg  Young girl with pigtails painting outside in t...\n",
              "15  1003163366_44323f5815.jpg  A man lays on a bench while his dog sits by him .\n",
              "16  1003163366_44323f5815.jpg  A man lays on the bench to which a white dog i...\n",
              "17  1003163366_44323f5815.jpg  a man sleeping on a bench outside with a white...\n",
              "18  1003163366_44323f5815.jpg  A shirtless man lies on a park bench with his ...\n",
              "19  1003163366_44323f5815.jpg  man laying on bench holding leash of dog sitti..."
            ]
          },
          "metadata": {},
          "execution_count": 5
        }
      ]
    },
    {
      "cell_type": "code",
      "metadata": {
        "id": "WolqJHQnO1j5"
      },
      "source": [
        "df_train = df.sample(frac=0.85,random_state=42)\n",
        "df_test = df.drop(df_train.index)"
      ],
      "execution_count": null,
      "outputs": []
    },
    {
      "cell_type": "markdown",
      "metadata": {
        "id": "VMiOF4WUReuu"
      },
      "source": [
        "## Tokenizers"
      ]
    },
    {
      "cell_type": "code",
      "metadata": {
        "id": "m3eXBBy2nket"
      },
      "source": [
        "with open('captions.txt','r') as inp_file:\n",
        "  for inp_line in inp_file.readlines()[1:]:\n",
        "    with open('only_captions.txt','a') as out_file:\n",
        "      out_file.write(\",\".join(inp_line.split(',')[1:]))"
      ],
      "execution_count": null,
      "outputs": []
    },
    {
      "cell_type": "code",
      "metadata": {
        "id": "sAxOSfoenpoP",
        "colab": {
          "base_uri": "https://localhost:8080/"
        },
        "outputId": "d9532f22-eb9f-4717-e821-a3625bd04cae"
      },
      "source": [
        "files = glob.glob('only_captions.txt')\n",
        "\n",
        "# Initialize an empty tokenizer\n",
        "tokenizer = BertWordPieceTokenizer(\n",
        "    clean_text=True,\n",
        "    handle_chinese_chars=True,\n",
        "    strip_accents=True,\n",
        "    lowercase=True,\n",
        ")\n",
        "\n",
        "# And then train\n",
        "tokenizer.train(\n",
        "    files,\n",
        "    vocab_size=5000,\n",
        "    min_frequency=2,\n",
        "    show_progress=True,\n",
        "    special_tokens=[\"[PAD]\", \"[UNK]\", \"[CLS]\", \"[SEP]\", \"[MASK]\"],\n",
        "    limit_alphabet=1000,\n",
        "    wordpieces_prefix=\"##\",\n",
        ")\n",
        "\n",
        "# Save the files\n",
        "tokenizer.save_model('./', 'bert-flickr')"
      ],
      "execution_count": null,
      "outputs": [
        {
          "output_type": "execute_result",
          "data": {
            "text/plain": [
              "['./bert-flickr-vocab.txt']"
            ]
          },
          "metadata": {},
          "execution_count": 8
        }
      ]
    },
    {
      "cell_type": "code",
      "metadata": {
        "id": "IgrQcYpqzEyq"
      },
      "source": [
        "NPY_DIR = 'drive/MyDrive/Flickr8k/inception_resnet_v2/'\n",
        "MAX_DECODER_LEN = 100\n",
        "\n",
        "flickr_tokenizer = BertWordPieceTokenizer('bert-flickr-vocab.txt')\n",
        "flickr_tokenizer.enable_padding(direction='right', length=MAX_DECODER_LEN)"
      ],
      "execution_count": null,
      "outputs": []
    },
    {
      "cell_type": "markdown",
      "metadata": {
        "id": "HqeuNDG6zKOU"
      },
      "source": [
        "## Image Features caching"
      ]
    },
    {
      "cell_type": "code",
      "metadata": {
        "colab": {
          "base_uri": "https://localhost:8080/"
        },
        "id": "S-dVqfhqikte",
        "outputId": "95045ba6-9cd7-41c7-df3c-f399836224ec"
      },
      "source": [
        "cnn_feature_extractor = tf.keras.applications.InceptionResNetV2(include_top=False,input_shape=(299,299,3))\n",
        "x = layers.Reshape(target_shape=(-1,cnn_feature_extractor.output.shape[-1]))(cnn_feature_extractor.output)\n",
        "cnn_fts_extractor = tf.keras.Model(inputs=[cnn_feature_extractor.input],outputs=[x])\n",
        "\n",
        "print(cnn_fts_extractor.output)"
      ],
      "execution_count": null,
      "outputs": [
        {
          "output_type": "stream",
          "text": [
            "Downloading data from https://storage.googleapis.com/tensorflow/keras-applications/inception_resnet_v2/inception_resnet_v2_weights_tf_dim_ordering_tf_kernels_notop.h5\n",
            "219062272/219055592 [==============================] - 1s 0us/step\n",
            "219070464/219055592 [==============================] - 1s 0us/step\n",
            "KerasTensor(type_spec=TensorSpec(shape=(None, 64, 1536), dtype=tf.float32, name=None), name='reshape/Reshape:0', description=\"created by layer 'reshape'\")\n"
          ],
          "name": "stdout"
        }
      ]
    },
    {
      "cell_type": "code",
      "metadata": {
        "id": "nyh_-x_Lhhpe"
      },
      "source": [
        "def load_image(image_path):\n",
        "    img = tf.io.read_file('Images/' + image_path)\n",
        "    img = tf.image.decode_jpeg(img, channels=3)\n",
        "    img = tf.image.resize(img, (299,299))\n",
        "    img = tf.keras.applications.inception_resnet_v2.preprocess_input(img)\n",
        "    return img, image_path"
      ],
      "execution_count": null,
      "outputs": []
    },
    {
      "cell_type": "code",
      "metadata": {
        "colab": {
          "base_uri": "https://localhost:8080/",
          "height": 304
        },
        "id": "YjJJ9TZqvTiJ",
        "outputId": "5e9242f5-5996-4ef6-e3f3-c43b06382c95"
      },
      "source": [
        "plt.imshow(load_image(df['image'][22])[0])"
      ],
      "execution_count": null,
      "outputs": [
        {
          "output_type": "stream",
          "text": [
            "Clipping input data to the valid range for imshow with RGB data ([0..1] for floats or [0..255] for integers).\n"
          ],
          "name": "stderr"
        },
        {
          "output_type": "execute_result",
          "data": {
            "text/plain": [
              "<matplotlib.image.AxesImage at 0x7f13a46a8790>"
            ]
          },
          "metadata": {},
          "execution_count": 13
        },
        {
          "output_type": "display_data",
          "data": {
            "image/png": "[encoded data removed]",
            "text/plain": [
              "<Figure size 432x288 with 1 Axes>"
            ]
          },
          "metadata": {
            "needs_background": "light"
          }
        }
      ]
    },
    {
      "cell_type": "code",
      "metadata": {
        "colab": {
          "base_uri": "https://localhost:8080/"
        },
        "id": "JICFIni8DXvx",
        "outputId": "a580b7d1-472a-4731-c1c0-5af355f588f7"
      },
      "source": [
        "image_dataset = tf.data.Dataset.from_tensor_slices(df['image'].values)\n",
        "image_dataset = image_dataset.map(load_image, num_parallel_calls=tf.data.AUTOTUNE).batch(64)\n",
        "\n",
        "for img, path in tqdm(image_dataset):\n",
        "  batch_features = cnn_fts_extractor(img)\n",
        "\n",
        "  for bf, p in zip(batch_features, path):\n",
        "    path_of_feature = p.numpy().decode(\"utf-8\")\n",
        "    np.save(NPY_DIR + path_of_feature, bf.numpy())"
      ],
      "execution_count": null,
      "outputs": [
        {
          "output_type": "stream",
          "text": [
            "100%|██████████| 1265/1265 [24:44<00:00,  1.17s/it]\n"
          ],
          "name": "stderr"
        }
      ]
    },
    {
      "cell_type": "markdown",
      "metadata": {
        "id": "GsarQsA1RT9s"
      },
      "source": [
        "## Config file"
      ]
    },
    {
      "cell_type": "code",
      "metadata": {
        "colab": {
          "base_uri": "https://localhost:8080/"
        },
        "id": "eaRqksFLRTOE",
        "outputId": "837a29f2-bf00-48bb-a1ff-ccf0bedd88ad"
      },
      "source": [
        "class CONFIG:\n",
        "  num_heads = 8\n",
        "  num_layers = 6\n",
        "\n",
        "  max_position_encoding = MAX_DECODER_LEN\n",
        "  embedding_dim = 128\n",
        "  fully_connected_dim = 512\n",
        "  target_vocab_size = flickr_tokenizer.get_vocab_size()\n",
        "\n",
        "  dropout_rate = 0.1\n",
        "  layernorm_eps = 1e-6\n",
        "\n",
        "  ## inception_resnet - 1536, inception - 2048\n",
        "  img_fts_shape = cnn_fts_extractor.output.shape\n",
        "  use_encoder = True\n",
        "\n",
        "\n",
        "dict_config ={key:value for key, value in CONFIG.__dict__.items() if not key.startswith('__')}\n",
        "print(dict_config)"
      ],
      "execution_count": null,
      "outputs": [
        {
          "output_type": "stream",
          "text": [
            "{'num_heads': 8, 'num_layers': 6, 'max_position_encoding': 100, 'embedding_dim': 128, 'fully_connected_dim': 512, 'target_vocab_size': 5000, 'dropout_rate': 0.1, 'layernorm_eps': 1e-06, 'img_fts_shape': TensorShape([None, 64, 1536]), 'use_encoder': True}\n"
          ],
          "name": "stdout"
        }
      ]
    },
    {
      "cell_type": "markdown",
      "metadata": {
        "id": "UrOU8GVjzUJO"
      },
      "source": [
        "## Transformer Architecture"
      ]
    },
    {
      "cell_type": "code",
      "metadata": {
        "id": "ij5NqufK2eYV"
      },
      "source": [
        "def get_angles(pos, i, d_model):\n",
        "  angle_rates = 1 / np.power(10000, (2 * (i//2)) / np.float32(d_model))\n",
        "  return pos * angle_rates\n",
        "\n",
        "\n",
        "def positional_encoding(position, d_model):\n",
        "  angle_rads = get_angles(np.arange(position)[:, np.newaxis],np.arange(d_model)[np.newaxis, :],d_model)\n",
        "  # apply sin to even indices in the array; 2i\n",
        "  angle_rads[:, 0::2] = np.sin(angle_rads[:, 0::2])\n",
        "  # apply cos to odd indices in the array; 2i+1\n",
        "  angle_rads[:, 1::2] = np.cos(angle_rads[:, 1::2])\n",
        "  pos_encoding = angle_rads[np.newaxis, ...]\n",
        "  return tf.cast(pos_encoding, dtype=tf.float32)"
      ],
      "execution_count": null,
      "outputs": []
    },
    {
      "cell_type": "code",
      "metadata": {
        "id": "sp5HmmMYOYGv"
      },
      "source": [
        "def create_padding_mask(seq):\n",
        "  seq = tf.cast(tf.math.equal(seq, 0), tf.float32)\n",
        "  # add extra dimensions to add the padding to the attention logits.\n",
        "  # (batch_size, 1, 1, seq_len)\n",
        "  return seq[:, tf.newaxis, tf.newaxis, :]  \n",
        "\n",
        "\n",
        "def create_look_ahead_mask(size):\n",
        "  mask = 1 - tf.linalg.band_part(tf.ones((size, size)), -1, 0)\n",
        "  return mask  # (seq_len, seq_len)"
      ],
      "execution_count": null,
      "outputs": []
    },
    {
      "cell_type": "code",
      "metadata": {
        "id": "HcOkbLu53wcc"
      },
      "source": [
        "def FeedForward(embedding_dim, fully_connected_dim):\n",
        "  return tf.keras.Sequential([\n",
        "      # (batch_size, seq_len, fully_connected_dim)\n",
        "      tf.keras.layers.Dense(fully_connected_dim, activation='relu'),\n",
        "      # (batch_size, seq_len, embedding_dim)\n",
        "      tf.keras.layers.Dense(embedding_dim)\n",
        "  ])"
      ],
      "execution_count": null,
      "outputs": []
    },
    {
      "cell_type": "code",
      "metadata": {
        "id": "VYzKijV27c3-"
      },
      "source": [
        "class EncoderLayer(tf.keras.layers.Layer):\n",
        "\n",
        "    def __init__(self,config):\n",
        "        super(EncoderLayer, self).__init__()\n",
        "\n",
        "        self.mha = layers.MultiHeadAttention(num_heads=config['num_heads'],key_dim=config['embedding_dim'])\n",
        "        self.ffn = FeedForward(embedding_dim=config['embedding_dim'],fully_connected_dim=config['fully_connected_dim'])\n",
        "\n",
        "        self.layernorm1 = layers.LayerNormalization(epsilon=config['layernorm_eps'])\n",
        "        self.layernorm2 = layers.LayerNormalization(epsilon=config['layernorm_eps'])\n",
        "\n",
        "        self.dropout1 = layers.Dropout(config['dropout_rate'])\n",
        "        self.dropout2 = layers.Dropout(config['dropout_rate'])\n",
        "    \n",
        "\n",
        "    def call(self, x, training, mask):\n",
        "        \"\"\"\n",
        "        Forward pass for the Encoder Layer\n",
        "        \n",
        "        Arguments:\n",
        "            x -- Tensor of shape (batch_size, input_seq_len, embedding_dim)\n",
        "            training -- Boolean, set to true to activate\n",
        "                        the training mode for dropout layers\n",
        "            mask -- Boolean mask to ensure that the padding is not \n",
        "                    treated as part of the input\n",
        "        Returns:\n",
        "            out2 -- Tensor of shape (batch_size, input_seq_len, embedding_dim)\n",
        "        \"\"\"\n",
        "\n",
        "        # calculate self-attention using mha\n",
        "        attn_output = self.mha(x, x, x, mask)  # Self attention (batch_size, input_seq_len, embedding_dim)\n",
        "        \n",
        "        # apply dropout layer to the self-attention output\n",
        "        attn_output = self.dropout1(attn_output, training = training)\n",
        "        \n",
        "        # apply layer normalization on sum of the input and the attention output to get the  \n",
        "        # output of the multi-head attention layer\n",
        "        out1 = self.layernorm1(x + attn_output)\n",
        "\n",
        "        # pass the output of the multi-head attention layer through a ffn \n",
        "        ffn_output = self.ffn(out1)\n",
        "        \n",
        "        # apply dropout layer to ffn output\n",
        "        ffn_output = self.dropout2(ffn_output, training = training)\n",
        "        \n",
        "        # apply layer normalization on sum of the output from multi-head attention and ffn output to get the\n",
        "        # output of the encoder layer\n",
        "        out2 = self.layernorm2(out1 + ffn_output)  # (batch_size, input_seq_len, embedding_dim)\n",
        "        \n",
        "        return out2"
      ],
      "execution_count": null,
      "outputs": []
    },
    {
      "cell_type": "code",
      "metadata": {
        "id": "Yd5EjCKf7oG4"
      },
      "source": [
        "class Encoder(tf.keras.layers.Layer):\n",
        "\n",
        "    def __init__(self,config):\n",
        "        super(Encoder, self).__init__()\n",
        "\n",
        "        self.embedding_dim = config['embedding_dim']\n",
        "        self.num_layers = config['num_layers']\n",
        "\n",
        "        self.dropout = layers.Dropout(config['dropout_rate'])\n",
        "        #self.embedding = layers.Embedding(config['input_vocab_size'], self.embedding_dim)\n",
        "        #self.pos_encoding = positional_encoding(maximum_position_encoding,self.embedding_dim)\n",
        "        self.enc_layers = [EncoderLayer(config) for _ in range(self.num_layers)]\n",
        "\n",
        "\n",
        "    def call(self, x, training, mask):\n",
        "        \"\"\"\n",
        "        Forward pass for the Encoder\n",
        "        \n",
        "        Arguments:\n",
        "            x -- Tensor of shape (batch_size, input_seq_len, embedding_dim)\n",
        "            training -- Boolean, set to true to activate\n",
        "                        the training mode for dropout layers\n",
        "            mask -- Boolean mask to ensure that the padding is not \n",
        "                    treated as part of the input\n",
        "        Returns:\n",
        "            out2 -- Tensor of shape (batch_size, input_seq_len, embedding_dim)\n",
        "        \"\"\"\n",
        "        \n",
        "        # Pass input through the Embedding layer\n",
        "        # (batch_size, input_seq_len, embedding_dim)\n",
        "        # x = self.embedding(x)  \n",
        "\n",
        "        # Scale embedding by multiplying it by the square root of the embedding dimension\n",
        "        x *= tf.math.sqrt(tf.cast(self.embedding_dim, tf.float32))\n",
        "\n",
        "        # Add the position encoding to embedding\n",
        "        #seq_len = tf.shape(x)[1]\n",
        "        #x += self.pos_encoding[:, :seq_len, :]\n",
        "\n",
        "        # Pass the encoded embedding through a dropout layer\n",
        "        x = self.dropout(x, training = training)\n",
        "\n",
        "        # Pass the output through the stack of encoding layers\n",
        "        # (batch_size, input_seq_len, embedding_dim) \n",
        "        for i in range(self.num_layers):\n",
        "            x = self.enc_layers[i](x, training, mask)\n",
        "\n",
        "        return x  "
      ],
      "execution_count": null,
      "outputs": []
    },
    {
      "cell_type": "code",
      "metadata": {
        "id": "HCHE-ttX7wyZ"
      },
      "source": [
        "class DecoderLayer(tf.keras.layers.Layer):\n",
        "\n",
        "    def __init__(self,config):\n",
        "        super(DecoderLayer, self).__init__()\n",
        "\n",
        "        self.mha1 = layers.MultiHeadAttention(num_heads=config['num_heads'],key_dim=config['embedding_dim'])\n",
        "        self.mha2 = layers.MultiHeadAttention(num_heads=config['num_heads'],key_dim=config['embedding_dim'])\n",
        "        self.ffn = FeedForward(embedding_dim=config['embedding_dim'],fully_connected_dim=config['fully_connected_dim'])\n",
        "\n",
        "        self.layernorm1 = layers.LayerNormalization(epsilon=config['layernorm_eps'])\n",
        "        self.layernorm2 = layers.LayerNormalization(epsilon=config['layernorm_eps'])\n",
        "        self.layernorm3 = layers.LayerNormalization(epsilon=config['layernorm_eps'])\n",
        "\n",
        "        self.dropout1 = layers.Dropout(config['dropout_rate'])\n",
        "        self.dropout2 = layers.Dropout(config['dropout_rate'])\n",
        "        self.dropout3 = layers.Dropout(config['dropout_rate'])\n",
        "    \n",
        "    def call(self, x, enc_output, training, look_ahead_mask, padding_mask):\n",
        "        \"\"\"\n",
        "        Forward pass for the Decoder Layer\n",
        "        \n",
        "        Arguments:\n",
        "            x -- Tensor of shape (batch_size, target_seq_len, fully_connected_dim)\n",
        "            enc_output --  Tensor of shape(batch_size, input_seq_len, fully_connected_dim)\n",
        "            training -- Boolean, set to true to activate the training mode for dropout layers\n",
        "            look_ahead_mask -- Boolean mask for the target_input\n",
        "            padding_mask -- Boolean mask for the second multihead attention layer\n",
        "        Returns:\n",
        "            out3 -- Tensor of shape (batch_size, target_seq_len, fully_connected_dim)\n",
        "            attn_weights_block1 -- Tensor of shape(batch_size, num_heads, target_seq_len, input_seq_len)\n",
        "            attn_weights_block2 -- Tensor of shape(batch_size, num_heads, target_seq_len, input_seq_len)\n",
        "        \"\"\"\n",
        "                \n",
        "        # BLOCK 1\n",
        "        # calculate self-attention and return attention scores as attn_weights_block1\n",
        "        # (batch_size, target_seq_len, d_model)\n",
        "        attn1, attn_weights_block1 = self.mha1(x, x, x, look_ahead_mask, return_attention_scores=True)  \n",
        "        \n",
        "        # apply dropout layer on the attention output\n",
        "        attn1 = self.dropout1(attn1, training = training)\n",
        "        \n",
        "        # apply layer normalization to the sum of the attention output and the input\n",
        "        out1 = self.layernorm1(attn1 + x)\n",
        "\n",
        "        # BLOCK 2\n",
        "        # calculate self-attention using the Q from the first block and K and V from the encoder output.\n",
        "        # Return attention scores as attn_weights_block2 \n",
        "        # (batch_size, target_seq_len, d_model)\n",
        "        attn2, attn_weights_block2 = self.mha2(out1, enc_output, enc_output, padding_mask, return_attention_scores=True) \n",
        "        \n",
        "        # apply dropout layer on the attention output\n",
        "        attn2 = self.dropout2(attn2, training = training)\n",
        "        \n",
        "        # apply layer normalization to the sum of the attention output and the output of the first block\n",
        "        # (batch_size, target_seq_len, fully_connected_dim) \n",
        "        out2 = self.layernorm2(attn2 + out1) \n",
        "        \n",
        "        #BLOCK 3\n",
        "        # pass the output of the second block through a ffn\n",
        "        # (batch_size, target_seq_len, fully_connected_dim)\n",
        "        ffn_output = self.ffn(out2) \n",
        "        \n",
        "        # apply a dropout layer to the ffn output\n",
        "        ffn_output = self.dropout3(ffn_output, training = training)\n",
        "        \n",
        "        # apply layer normalization to the sum of the ffn output and the output of the second block\n",
        "        # (batch_size, target_seq_len, fully_connected_dim)\n",
        "        out3 = self.layernorm3(ffn_output + out2) \n",
        "\n",
        "        return out3, attn_weights_block1, attn_weights_block2"
      ],
      "execution_count": null,
      "outputs": []
    },
    {
      "cell_type": "code",
      "metadata": {
        "id": "mDiOckNG70iM"
      },
      "source": [
        "class Decoder(tf.keras.layers.Layer):\n",
        "\n",
        "    def __init__(self, config):\n",
        "        super(Decoder, self).__init__()\n",
        "\n",
        "        self.embedding_dim = config['embedding_dim']\n",
        "        self.num_layers = config['num_layers']\n",
        "\n",
        "        self.embedding = layers.Embedding(config['target_vocab_size'], self.embedding_dim)\n",
        "        self.pos_encoding = positional_encoding(config['max_position_encoding'], self.embedding_dim)\n",
        "\n",
        "        self.dec_layers = [DecoderLayer(config) for _ in range(self.num_layers)]\n",
        "        self.dropout = layers.Dropout(config['dropout_rate'])\n",
        "    \n",
        "\n",
        "    def call(self, x, enc_output, training, look_ahead_mask, padding_mask):\n",
        "        \"\"\"\n",
        "        Forward  pass for the Decoder\n",
        "        \n",
        "        Arguments:\n",
        "            x -- Tensor of shape (batch_size, target_seq_len, embedding_dim)\n",
        "            enc_output --  Tensor of shape(batch_size, input_seq_len, embedding_dim)\n",
        "            training -- Boolean, set to true to activate the training mode for dropout layers\n",
        "            look_ahead_mask -- Boolean mask for the target_input\n",
        "            padding_mask -- Boolean mask for the second multihead attention layer\n",
        "        Returns:\n",
        "            x -- Tensor of shape (batch_size, target_seq_len, embedding_dim)\n",
        "            attention_weights - Dictionary of tensors containing all the attention weights\n",
        "                                each of shape Tensor of shape (batch_size, num_heads, target_seq_len, input_seq_len)\n",
        "        \"\"\"\n",
        "\n",
        "        seq_len = tf.shape(x)[1]\n",
        "        attention_weights = {}\n",
        "        \n",
        "        # create word embeddings \n",
        "        # (batch_size, target_seq_len, embedding_dim)\n",
        "        x = self.embedding(x)  \n",
        "        \n",
        "        # scale embeddings by multiplying by the square root of their dimension\n",
        "        x *= tf.math.sqrt(tf.cast(self.embedding_dim, tf.float32))\n",
        "        \n",
        "        # calculate positional encodings and add to word embedding\n",
        "        x += self.pos_encoding[:, :seq_len, :]\n",
        "        \n",
        "        # apply a dropout layer to x\n",
        "        x = self.dropout(x, training = training)\n",
        "\n",
        "        # use a for loop to pass x through a stack of decoder layers and update attention_weights\n",
        "        for i in range(self.num_layers):\n",
        "            # pass x and the encoder output through a stack of decoder layers and save the attention weights\n",
        "            # of block 1 and 2 \n",
        "            x, block1, block2 = self.dec_layers[i](x, enc_output, training, look_ahead_mask, padding_mask)\n",
        "\n",
        "            #update attention_weights dictionary with the attention weights of block 1 and block 2\n",
        "            attention_weights['decoder_layer{}_block1_self_att'.format(i+1)] = block1\n",
        "            attention_weights['decoder_layer{}_block2_decenc_att'.format(i+1)] = block2\n",
        "        \n",
        "        # x.shape == (batch_size, target_seq_len, embedding_dim)\n",
        "        return x, attention_weights"
      ],
      "execution_count": null,
      "outputs": []
    },
    {
      "cell_type": "code",
      "metadata": {
        "id": "Kv9AS53xNmDk"
      },
      "source": [
        "class Transformer(tf.keras.Model):\n",
        "\n",
        "  def __init__(self, config):\n",
        "    super().__init__()\n",
        "    self.encoder = Encoder(config)\n",
        "    self.decoder = Decoder(config)\n",
        "    self.densor = layers.Dense(config['embedding_dim'])\n",
        "    self.final_layer = layers.Dense(config['target_vocab_size'], activation='softmax')\n",
        "\n",
        "\n",
        "  def call(self, inputs, use_encoder, training):\n",
        "\n",
        "    inp, tar = inputs\n",
        "    look_ahead_mask = self.create_masks(inp, tar)\n",
        "    # applies dense layer to img fetures\n",
        "    inp = self.densor(inp)\n",
        "\n",
        "    # (batch_size, inp_seq_len, embedding_dim)\n",
        "    if use_encoder:\n",
        "      enc_output = self.encoder(inp, training, None)\n",
        "    else:\n",
        "      enc_output = inp\n",
        "\n",
        "    # dec_output.shape == (batch_size, tar_seq_len, embedding_dim)\n",
        "    dec_output, attention_weights = self.decoder(tar, enc_output, training, look_ahead_mask, None)\n",
        "    # (batch_size, tar_seq_len, target_vocab_size)\n",
        "    final_output = self.final_layer(dec_output) \n",
        "\n",
        "    return final_output, attention_weights\n",
        "\n",
        "\n",
        "  def create_masks(self, inp, tar):\n",
        "\n",
        "    # Used in the 1st attention block in the decoder.\n",
        "    # It is used to pad and mask future tokens in the input received by the decoder.\n",
        "    look_ahead_mask = create_look_ahead_mask(tf.shape(tar)[1])\n",
        "    dec_target_padding_mask = create_padding_mask(tar)\n",
        "    look_ahead_mask = tf.maximum(dec_target_padding_mask, look_ahead_mask)\n",
        "\n",
        "    return look_ahead_mask"
      ],
      "execution_count": null,
      "outputs": []
    },
    {
      "cell_type": "markdown",
      "metadata": {
        "id": "IxsqxaUGVywN"
      },
      "source": [
        "## Data Loaders"
      ]
    },
    {
      "cell_type": "code",
      "metadata": {
        "id": "TX2JHHAwesPN"
      },
      "source": [
        "BATCH_SIZE = 64\n",
        "BUFFER_SIZE = 1024"
      ],
      "execution_count": null,
      "outputs": []
    },
    {
      "cell_type": "code",
      "metadata": {
        "id": "hfdGDeLjNL23"
      },
      "source": [
        "def preprocess(img_name, caption):\n",
        "  cap = tf.constant(flickr_tokenizer.encode(caption.decode('utf-8')).ids)\n",
        "  cap = tf.reshape(cap,(-1,))\n",
        "  img_tensor = tf.constant(np.load(NPY_DIR + img_name.decode('utf-8') +'.npy'))\n",
        "  return img_tensor,cap"
      ],
      "execution_count": null,
      "outputs": []
    },
    {
      "cell_type": "code",
      "metadata": {
        "id": "ryF2QZPYe2B3"
      },
      "source": [
        "def make_batches(ds):\n",
        "  return (\n",
        "      ds\n",
        "      .cache()\n",
        "      .shuffle(BUFFER_SIZE)\n",
        "      .map(lambda item1, item2: tf.numpy_function(\n",
        "           preprocess, (item1, item2), (tf.float32, tf.int32)),\n",
        "           num_parallel_calls=tf.data.AUTOTUNE)\n",
        "      .batch(BATCH_SIZE)\n",
        "      .prefetch(tf.data.AUTOTUNE))"
      ],
      "execution_count": null,
      "outputs": []
    },
    {
      "cell_type": "code",
      "metadata": {
        "id": "5gCM8TAQNzvu"
      },
      "source": [
        "train_dataset = tf.data.Dataset.from_tensor_slices((df_train.values[:,0],df_train.values[:,1]))\n",
        "train_ds = make_batches(train_dataset)\n",
        "\n",
        "test_dataset = tf.data.Dataset.from_tensor_slices((df_test.values[:,0],df_test.values[:,1]))\n",
        "test_ds = make_batches(test_dataset)"
      ],
      "execution_count": null,
      "outputs": []
    },
    {
      "cell_type": "code",
      "metadata": {
        "colab": {
          "base_uri": "https://localhost:8080/"
        },
        "id": "nqg0iafXSU5Z",
        "outputId": "26ec7229-626f-41e4-9f82-03187b7aaf9c"
      },
      "source": [
        "list(train_ds.take(1))"
      ],
      "execution_count": null,
      "outputs": [
        {
          "output_type": "execute_result",
          "data": {
            "text/plain": [
              "[(<tf.Tensor: shape=(64, 64, 1536), dtype=float32, numpy=\n",
              "  array([[[6.0358274e-01, 2.4442109e-01, 0.0000000e+00, ...,\n",
              "           0.0000000e+00, 0.0000000e+00, 0.0000000e+00],\n",
              "          [2.8696880e-01, 1.3751945e-01, 0.0000000e+00, ...,\n",
              "           0.0000000e+00, 0.0000000e+00, 0.0000000e+00],\n",
              "          [0.0000000e+00, 0.0000000e+00, 0.0000000e+00, ...,\n",
              "           0.0000000e+00, 6.8616605e-01, 0.0000000e+00],\n",
              "          ...,\n",
              "          [5.2523029e-01, 0.0000000e+00, 0.0000000e+00, ...,\n",
              "           0.0000000e+00, 6.9872254e-01, 1.7795796e+00],\n",
              "          [0.0000000e+00, 0.0000000e+00, 0.0000000e+00, ...,\n",
              "           1.3203050e-01, 2.3288310e+00, 0.0000000e+00],\n",
              "          [1.5698242e-01, 0.0000000e+00, 0.0000000e+00, ...,\n",
              "           0.0000000e+00, 4.4253201e+00, 0.0000000e+00]],\n",
              "  \n",
              "         [[0.0000000e+00, 0.0000000e+00, 0.0000000e+00, ...,\n",
              "           0.0000000e+00, 0.0000000e+00, 0.0000000e+00],\n",
              "          [0.0000000e+00, 3.7947305e-02, 1.8931247e-03, ...,\n",
              "           2.0318979e-03, 0.0000000e+00, 0.0000000e+00],\n",
              "          [0.0000000e+00, 1.4042372e-01, 1.0473813e-01, ...,\n",
              "           0.0000000e+00, 1.4051221e-01, 0.0000000e+00],\n",
              "          ...,\n",
              "          [7.3822357e-02, 0.0000000e+00, 0.0000000e+00, ...,\n",
              "           0.0000000e+00, 0.0000000e+00, 1.6735527e-01],\n",
              "          [0.0000000e+00, 0.0000000e+00, 0.0000000e+00, ...,\n",
              "           0.0000000e+00, 0.0000000e+00, 0.0000000e+00],\n",
              "          [0.0000000e+00, 4.3871626e-01, 0.0000000e+00, ...,\n",
              "           3.4375638e-02, 0.0000000e+00, 0.0000000e+00]],\n",
              "  \n",
              "         [[0.0000000e+00, 0.0000000e+00, 0.0000000e+00, ...,\n",
              "           0.0000000e+00, 0.0000000e+00, 0.0000000e+00],\n",
              "          [0.0000000e+00, 2.6193943e-02, 1.3607077e-02, ...,\n",
              "           0.0000000e+00, 0.0000000e+00, 0.0000000e+00],\n",
              "          [0.0000000e+00, 0.0000000e+00, 0.0000000e+00, ...,\n",
              "           0.0000000e+00, 0.0000000e+00, 0.0000000e+00],\n",
              "          ...,\n",
              "          [0.0000000e+00, 0.0000000e+00, 0.0000000e+00, ...,\n",
              "           0.0000000e+00, 0.0000000e+00, 0.0000000e+00],\n",
              "          [0.0000000e+00, 0.0000000e+00, 0.0000000e+00, ...,\n",
              "           0.0000000e+00, 0.0000000e+00, 0.0000000e+00],\n",
              "          [0.0000000e+00, 0.0000000e+00, 0.0000000e+00, ...,\n",
              "           0.0000000e+00, 0.0000000e+00, 0.0000000e+00]],\n",
              "  \n",
              "         ...,\n",
              "  \n",
              "         [[0.0000000e+00, 0.0000000e+00, 0.0000000e+00, ...,\n",
              "           0.0000000e+00, 8.9949392e-02, 0.0000000e+00],\n",
              "          [0.0000000e+00, 1.2639794e-01, 0.0000000e+00, ...,\n",
              "           3.4929830e-01, 0.0000000e+00, 8.3381826e-01],\n",
              "          [0.0000000e+00, 0.0000000e+00, 0.0000000e+00, ...,\n",
              "           1.7710742e-02, 0.0000000e+00, 2.6825645e+00],\n",
              "          ...,\n",
              "          [0.0000000e+00, 1.5827937e-02, 0.0000000e+00, ...,\n",
              "           0.0000000e+00, 4.9592569e-01, 0.0000000e+00],\n",
              "          [0.0000000e+00, 0.0000000e+00, 0.0000000e+00, ...,\n",
              "           0.0000000e+00, 4.9045065e-01, 4.7974467e-01],\n",
              "          [0.0000000e+00, 1.2480301e-01, 2.7873680e-01, ...,\n",
              "           0.0000000e+00, 1.6181626e+00, 2.0921719e+00]],\n",
              "  \n",
              "         [[0.0000000e+00, 0.0000000e+00, 0.0000000e+00, ...,\n",
              "           0.0000000e+00, 0.0000000e+00, 0.0000000e+00],\n",
              "          [0.0000000e+00, 0.0000000e+00, 0.0000000e+00, ...,\n",
              "           0.0000000e+00, 0.0000000e+00, 0.0000000e+00],\n",
              "          [0.0000000e+00, 0.0000000e+00, 3.7990585e-01, ...,\n",
              "           0.0000000e+00, 0.0000000e+00, 0.0000000e+00],\n",
              "          ...,\n",
              "          [2.2170311e-01, 7.5818926e-02, 0.0000000e+00, ...,\n",
              "           0.0000000e+00, 0.0000000e+00, 0.0000000e+00],\n",
              "          [0.0000000e+00, 0.0000000e+00, 5.5953361e-02, ...,\n",
              "           0.0000000e+00, 0.0000000e+00, 0.0000000e+00],\n",
              "          [0.0000000e+00, 0.0000000e+00, 0.0000000e+00, ...,\n",
              "           0.0000000e+00, 0.0000000e+00, 0.0000000e+00]],\n",
              "  \n",
              "         [[0.0000000e+00, 0.0000000e+00, 0.0000000e+00, ...,\n",
              "           0.0000000e+00, 0.0000000e+00, 0.0000000e+00],\n",
              "          [0.0000000e+00, 0.0000000e+00, 0.0000000e+00, ...,\n",
              "           0.0000000e+00, 0.0000000e+00, 0.0000000e+00],\n",
              "          [0.0000000e+00, 0.0000000e+00, 0.0000000e+00, ...,\n",
              "           0.0000000e+00, 0.0000000e+00, 0.0000000e+00],\n",
              "          ...,\n",
              "          [4.2953792e+00, 1.9510266e+00, 1.4733454e+00, ...,\n",
              "           0.0000000e+00, 1.8009748e+00, 4.1113772e+00],\n",
              "          [1.5252410e+00, 4.3242529e-01, 9.2066598e-01, ...,\n",
              "           0.0000000e+00, 2.4968903e+00, 0.0000000e+00],\n",
              "          [3.1166041e-01, 0.0000000e+00, 0.0000000e+00, ...,\n",
              "           0.0000000e+00, 9.9277973e-01, 2.1744627e-01]]], dtype=float32)>,\n",
              "  <tf.Tensor: shape=(64, 100), dtype=int32, numpy=\n",
              "  array([[  2,  29, 118, ...,   0,   0,   0],\n",
              "         [  2,  96, 307, ...,   0,   0,   0],\n",
              "         [  2,  96, 292, ...,   0,   0,   0],\n",
              "         ...,\n",
              "         [  2,  29, 430, ...,   0,   0,   0],\n",
              "         [  2,  29, 118, ...,   0,   0,   0],\n",
              "         [  2,  29, 118, ...,   0,   0,   0]], dtype=int32)>)]"
            ]
          },
          "metadata": {},
          "execution_count": 27
        }
      ]
    },
    {
      "cell_type": "markdown",
      "metadata": {
        "id": "2yUs1IaSzdtj"
      },
      "source": [
        "## Training"
      ]
    },
    {
      "cell_type": "code",
      "metadata": {
        "id": "EFLLdNPjcOgs"
      },
      "source": [
        "EPOCHS = 20\n",
        "LR = 0.006"
      ],
      "execution_count": null,
      "outputs": []
    },
    {
      "cell_type": "code",
      "metadata": {
        "id": "_zvERkuCw6yA"
      },
      "source": [
        "model = Transformer(dict_config)\n",
        "optimizer = tf.keras.optimizers.Adam(LR, beta_1=0.9, beta_2=0.98, epsilon=1e-9)"
      ],
      "execution_count": null,
      "outputs": []
    },
    {
      "cell_type": "code",
      "metadata": {
        "id": "o01uMj0_cXzN"
      },
      "source": [
        "loss_object = tf.keras.losses.SparseCategoricalCrossentropy(reduction='none')\n",
        "\n",
        "def loss_function(real, pred):\n",
        "  mask = tf.math.logical_not(tf.math.equal(real, 0))\n",
        "  loss_ = loss_object(real, pred)\n",
        "  mask = tf.cast(mask, dtype=loss_.dtype)\n",
        "  loss_ *= mask\n",
        "  return tf.reduce_sum(loss_)/tf.reduce_sum(mask)\n",
        "\n",
        "\n",
        "def accuracy_function(real, pred):\n",
        "\n",
        "  accuracies = tf.equal(real, tf.cast(tf.argmax(pred, axis=2),dtype=tf.int32))\n",
        "  mask = tf.math.logical_not(tf.math.equal(real, 0))\n",
        "  accuracies = tf.math.logical_and(mask, accuracies)\n",
        "  accuracies = tf.cast(accuracies, dtype=tf.float32)\n",
        "  mask = tf.cast(mask, dtype=tf.float32)\n",
        "  return tf.reduce_sum(accuracies)/tf.reduce_sum(mask)"
      ],
      "execution_count": null,
      "outputs": []
    },
    {
      "cell_type": "code",
      "metadata": {
        "id": "MGPzhgLC2y5W"
      },
      "source": [
        "train_loss = tf.keras.metrics.Mean(name='train_loss')\n",
        "train_accuracy = tf.keras.metrics.Mean(name='train_accuracy')\n",
        "\n",
        "test_loss = tf.keras.metrics.Mean(name='test_loss')\n",
        "test_accuracy = tf.keras.metrics.Mean(name='test_accuracy')"
      ],
      "execution_count": null,
      "outputs": []
    },
    {
      "cell_type": "code",
      "metadata": {
        "id": "z76lcX9h1-yr"
      },
      "source": [
        "checkpoint_path = \"/drive/MyDrive/Flickr8k/ckpts/encoder_true\"\n",
        "ckpt = tf.train.Checkpoint(transformer=model,optimizer=optimizer)\n",
        "ckpt_manager = tf.train.CheckpointManager(ckpt, checkpoint_path, max_to_keep=5)"
      ],
      "execution_count": null,
      "outputs": []
    },
    {
      "cell_type": "code",
      "metadata": {
        "id": "GF4lnSHxZvt8"
      },
      "source": [
        "step_signature = [\n",
        "    tf.TensorSpec(shape=dict_config['img_fts_shape'], dtype=tf.float32),\n",
        "    tf.TensorSpec(shape=(None,dict_config['max_position_encoding']), dtype=tf.int32),\n",
        "    tf.TensorSpec(shape=(), dtype=tf.bool)]\n",
        "\n",
        "\n",
        "@tf.function(input_signature = step_signature)\n",
        "def train_step(input_emb,target_seq,use_encoder):\n",
        "  tar_inp = target_seq[:, :-1]\n",
        "  tar_real = target_seq[:, 1:]\n",
        "\n",
        "  with tf.GradientTape() as tape:\n",
        "    predictions, _ = model([input_emb, tar_inp],use_encoder=use_encoder,training = True)\n",
        "    loss = loss_function(tar_real, predictions)\n",
        "\n",
        "  gradients = tape.gradient(loss, model.trainable_variables)\n",
        "  optimizer.apply_gradients(zip(gradients, model.trainable_variables))\n",
        "\n",
        "  train_loss(loss)\n",
        "  train_accuracy(accuracy_function(tar_real, predictions))\n",
        "\n",
        "\n",
        "@tf.function(input_signature = step_signature)\n",
        "def test_step(input_emb,target_seq,use_encoder):\n",
        "  tar_inp = target_seq[:, :-1]\n",
        "  tar_real = target_seq[:, 1:]\n",
        "\n",
        "  predictions, _ = model([input_emb, tar_inp],use_encoder=use_encoder,training = False)\n",
        "  loss = loss_function(tar_real, predictions)\n",
        "\n",
        "  test_loss(loss)\n",
        "  test_accuracy(accuracy_function(tar_real, predictions))"
      ],
      "execution_count": null,
      "outputs": []
    },
    {
      "cell_type": "code",
      "metadata": {
        "colab": {
          "base_uri": "https://localhost:8080/"
        },
        "id": "y1vJlQzMbvT0",
        "outputId": "01d7fbf6-fc92-4d4a-d5d1-be43dcc3a00a"
      },
      "source": [
        "for epoch in range(EPOCHS):\n",
        "\n",
        "  start = time.time()\n",
        "  enum_train_ds = tqdm(enumerate(train_ds))\n",
        "  enum_test_ds = tqdm(enumerate(test_ds))\n",
        "\n",
        "  train_loss.reset_states()\n",
        "  train_accuracy.reset_states()\n",
        "  test_loss.reset_states()\n",
        "  test_accuracy.reset_states()\n",
        "\n",
        "  for (batch, (img_emb, target_seq)) in enum_train_ds:\n",
        "    train_step(img_emb,target_seq,tf.constant(dict_config['use_encoder']))\n",
        "    enum_train_ds.set_description(f'Epoch - {epoch + 1}/{EPOCHS}; Batch - {batch}/{len(train_ds)} ||' \n",
        "    + f' Loss - {train_loss.result():.4f}; Accuracy - {train_accuracy.result():.4f}')\n",
        "  \n",
        "  for (batch, (img_emb, target_seq)) in enum_test_ds:\n",
        "    test_step(img_emb,target_seq,tf.constant(dict_config['use_encoder']))\n",
        "    enum_test_ds.set_description(f'Epoch - {epoch + 1}/{EPOCHS}; Batch - {batch}/{len(test_ds)} ||' \n",
        "    + f' Loss - {test_loss.result():.4f}; Accuracy - {test_accuracy.result():.4f}')\n",
        "  \n",
        "  if (epoch + 1) % 2 == 0:\n",
        "    ckpt_save_path = ckpt_manager.save()\n",
        "    print(f'Saving checkpoint for epoch {epoch+1} at {ckpt_save_path}')\n",
        "\n",
        "  print(f'Time taken for 1 epoch: {time.time() - start:.2f} secs')\n",
        "  print('-'* 200)"
      ],
      "execution_count": null,
      "outputs": [
        {
          "output_type": "stream",
          "text": [
            "0it [00:00, ?it/s]\n",
            "Epoch - 1/20; Batch - 188/538 || Loss - 5.4804; Accuracy - 0.1177: : 189it [30:04,  4.91s/it]"
          ],
          "name": "stderr"
        }
      ]
    },
    {
      "cell_type": "code",
      "metadata": {
        "id": "PM2NC1HeJcLg"
      },
      "source": [
        ""
      ],
      "execution_count": null,
      "outputs": []
    }
  ]
}